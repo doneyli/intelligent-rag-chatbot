{
  "cells": [
    {
      "cell_type": "markdown",
      "metadata": {},
      "source": [
        "# 📊 AI Observability & Evaluation Setup\n",
        "\n",
        "This notebook sets up the TruLens AI Observability framework for evaluating the Intelligent Multi-Stage RAG Chatbot.\n",
        "\n",
        "## Features\n",
        "- **🔍 Comprehensive Tracing**: Track all RAG components (retrieval, generation, orchestration)\n",
        "- **📈 Evaluation Metrics**: RAG Triad (Context Relevance, Groundedness, Answer Relevance)\n",
        "- **👤 User Feedback**: Collect and analyze user satisfaction scores\n",
        "- **🎯 Performance Monitoring**: Track application performance over time\n",
        "- **📊 Visual Dashboards**: Snowsight-based evaluation dashboards\n",
        "\n",
        "## Prerequisites\n",
        "- Snowflake account with Cortex LLM Functions enabled\n",
        "- ACCOUNTADMIN role or equivalent privileges\n",
        "- TruLens packages installed (see requirements.txt)\n",
        "\n",
        "## Required Privileges\n",
        "- `SNOWFLAKE.CORTEX_USER` database role\n",
        "- `SNOWFLAKE.AI_OBSERVABILITY_EVENTS_LOOKUP` application role\n",
        "- `CREATE EXTERNAL AGENT` privilege on the schema\n"
      ]
    },
    {
      "cell_type": "markdown",
      "metadata": {},
      "source": [
        "## 🛠️ Step 1: Environment Setup\n",
        "\n",
        "### ⚠️ **Important**: Permission Grant Syntax\n",
        "\n",
        "When running the optional permission grants, use the correct syntax:\n",
        "\n",
        "**✅ Correct:**\n",
        "```sql\n",
        "GRANT APPLICATION ROLE SNOWFLAKE.AI_OBSERVABILITY_EVENTS_LOOKUP TO USER demo_user;\n",
        "```\n",
        "\n",
        "**❌ Incorrect (will cause syntax error):**\n",
        "```sql\n",
        "GRANT APPLICATION ROLE SNOWFLAKE.AI_OBSERVABILITY_EVENTS_LOOKUP TO demo_user;\n",
        "```\n",
        "\n",
        "**Key difference**: Application roles require the `USER` keyword, unlike database roles.\n"
      ]
    },
    {
      "cell_type": "code",
      "execution_count": null,
      "metadata": {},
      "outputs": [],
      "source": [
        "# Import required libraries\n",
        "import os\n",
        "import json\n",
        "import pandas as pd\n",
        "from snowflake.snowpark.context import get_active_session\n",
        "from snowflake.core import Root\n",
        "from snowflake.cortex import Complete\n",
        "from typing import List, Dict, Any\n",
        "\n",
        "# TruLens imports\n",
        "from trulens.core.otel.instrument import instrument\n",
        "from trulens.otel.semconv.trace import SpanAttributes\n",
        "from trulens.apps.app import TruApp\n",
        "from trulens.connectors.snowflake import SnowflakeConnector\n",
        "from trulens.core.run import Run, RunConfig\n",
        "\n",
        "# Enable TruLens OpenTelemetry tracing\n",
        "os.environ[\"TRULENS_OTEL_TRACING\"] = \"1\"\n",
        "\n",
        "# Get active Snowflake session\n",
        "session = get_active_session()\n",
        "print(\"✅ Connected to Snowflake successfully\")\n"
      ]
    },
    {
      "cell_type": "markdown",
      "metadata": {},
      "source": [
        "## 🗄️ Step 2: Create Observability Database and Schema\n"
      ]
    },
    {
      "cell_type": "code",
      "execution_count": null,
      "metadata": {},
      "outputs": [],
      "source": [
        "# Create observability database and schema\n",
        "session.sql(\"\"\"\n",
        "CREATE DATABASE IF NOT EXISTS AI_OBSERVABILITY_DB\n",
        "\"\"\").collect()\n",
        "\n",
        "session.sql(\"\"\"\n",
        "USE DATABASE AI_OBSERVABILITY_DB\n",
        "\"\"\").collect()\n",
        "\n",
        "session.sql(\"\"\"\n",
        "CREATE SCHEMA IF NOT EXISTS EVALUATION_SCHEMA\n",
        "\"\"\").collect()\n",
        "\n",
        "session.sql(\"\"\"\n",
        "USE SCHEMA EVALUATION_SCHEMA\n",
        "\"\"\").collect()\n",
        "\n",
        "print(\"✅ Created AI_OBSERVABILITY_DB.EVALUATION_SCHEMA\")\n"
      ]
    }
  ],
  "metadata": {
    "language_info": {
      "name": "python"
    }
  },
  "nbformat": 4,
  "nbformat_minor": 2
}
