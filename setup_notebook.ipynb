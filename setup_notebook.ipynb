{
 "metadata": {
  "kernelspec": {
   "display_name": "Streamlit Notebook",
   "name": "streamlit"
  },
  "lastEditStatus": {
   "notebookId": "q2es6lrpvmugk7zz33iy",
   "authorId": "8693995639742",
   "authorName": "DEMO_USER",
   "authorEmail": "doneyli.dejesus@snowflake.com",
   "sessionId": "4fb90d47-052c-44ea-8649-afe94fc2ef30",
   "lastEditTime": 1754970836585
  }
 },
 "nbformat_minor": 5,
 "nbformat": 4,
 "cells": [
  {
   "cell_type": "code",
   "id": "3775908f-ca36-4846-8f38-5adca39217f2",
   "metadata": {
    "language": "python",
    "name": "cell1"
   },
   "source": "# Import python packages\nimport streamlit as st\nimport pandas as pd\n\n# We can also use Snowpark for our analyses!\nfrom snowflake.snowpark.context import get_active_session\nsession = get_active_session()\n",
   "execution_count": null,
   "outputs": []
  },
  {
   "cell_type": "code",
   "id": "8d50cbf4-0c8d-4950-86cb-114990437ac9",
   "metadata": {
    "language": "sql",
    "name": "cell2"
   },
   "source": "CREATE OR REPLACE TABLE DOCUMENTS_RAW_PARSED AS\nSELECT \n    RELATIVE_PATH AS FILENAME,\n    FILE_URL,\n    SIZE,\n    LAST_MODIFIED,\n    TO_VARCHAR (\n        SNOWFLAKE.CORTEX.PARSE_DOCUMENT(\n            '@documents',\n             relative_path,\n             {'mode': 'OCR'}\n        )\n    ) AS PARSED_CONTENT\nFROM \n    DIRECTORY(@documents)\nWHERE \n    1 = 1 \n    --AND RELATIVE_PATH = 'Briefing - proactive-disclosure-2024-12-12-secu-borders-en.pdf'\n\n    ",
   "execution_count": null,
   "outputs": []
  },
  {
   "cell_type": "code",
   "id": "c695373e-ac74-4b62-a1f1-08206cbd5c81",
   "metadata": {
    "language": "sql",
    "name": "cell3"
   },
   "source": "SELECT * FROM DOCUMENTS_RAW_PARSED;",
   "execution_count": null,
   "outputs": []
  },
  {
   "cell_type": "code",
   "id": "2cebaf2e-2c3f-43ac-90e7-5614181e08fe",
   "metadata": {
    "language": "sql",
    "name": "cell4"
   },
   "outputs": [],
   "source": "CREATE OR REPLACE TABLE DOCUMENTS_RAW_PARSED_METADATA AS (\n    SELECT\n        FILENAME,\n        FILE_URL,\n        PARSED_CONTENT,\n        SNOWFLAKE.CORTEX.COMPLETE(\n            'claude-4-sonnet', \n'I am going to provide a document which will be indexed by a retrieval system containing many similar documents. I want you to provide key information associated with this document that can help differentiate this document in the index. Follow these instructions:\n    \n        1. Do not dwell on low level details. Only provide key high level information that a human might be expected to provide when searching for this doc.\n    \n        2. Do not use any formatting, just provide keys and values using a colon to separate key and value. Have each key and value be on a new line.\n    \n        3. Only extract at most the most important keys and values that could be relevant for this document and used in retrieval'   \n        || '\\n\\nDoc starts here:\\n' \n        || SUBSTR(PARSED_CONTENT, 0, 4000) \n        || '\\nDoc ends here\\n\\n'\n        ) CONTENT_METADATA,\n    FROM\n        DOCUMENTS_RAW_PARSED ) ;",
   "execution_count": null
  },
  {
   "cell_type": "code",
   "id": "12ac83bc-4cae-46ed-af20-47a7e6ab247d",
   "metadata": {
    "language": "sql",
    "name": "cell5"
   },
   "outputs": [],
   "source": "SELECT * FROM DOCUMENTS_RAW_PARSED_METADATA\nwhere content_metadata ilike '%Exhibit 10.33%';",
   "execution_count": null
  },
  {
   "cell_type": "code",
   "id": "e7746b4c-f696-4467-8a74-40c151b14a01",
   "metadata": {
    "language": "sql",
    "name": "cell8"
   },
   "outputs": [],
   "source": "-- CREATE CORTEX SEARCH SERVICE FOR METADATA\nCREATE OR REPLACE CORTEX SEARCH SERVICE CS_DOCUMENTS_METADATA\nON CONTENT_METADATA \nATTRIBUTES FILENAME\nWAREHOUSE = DEMO_WH \nTARGET_LAG = '1 minute' \nEMBEDDING_MODEL = 'snowflake-arctic-embed-l-v2.0'\nAS ( SELECT * FROM DOCUMENTS_RAW_PARSED_METADATA ); ",
   "execution_count": null
  },
  {
   "cell_type": "code",
   "id": "9314c106-73aa-4385-8adb-875cf41e38c3",
   "metadata": {
    "language": "sql",
    "name": "cell6"
   },
   "outputs": [],
   "source": "-- STEP 2: GENERATE CHUNKS AND PREPEND CONTEXT TO CHUNKb\n\nCREATE OR REPLACE TABLE CHUNKS_CONTEXTUALIZED AS (\n    WITH SPLIT_TEXT_CHUNKS AS (\n        SELECT\n            FILENAME,\n            FILE_URL,\n            C.VALUE AS CHUNK,\n        FROM\n           DOCUMENTS_RAW_PARSED_METADATA,\n           LATERAL FLATTEN( input => SNOWFLAKE.CORTEX.SPLIT_TEXT_RECURSIVE_CHARACTER (\n              PARSED_CONTENT,\n              'none',\n              1800, -- SET CHUNK SIZE\n              300 -- SET CHUNK OVERLAP\n           )) C\n    )\n    SELECT\n        M.FILENAME,\n        M.FILE_URL,\n        CONCAT(M.CONTENT_METADATA, '\\n\\n', C.CHUNK) AS CONTEXTUALIZED_CHUNK,\n    FROM\n        SPLIT_TEXT_CHUNKS C\n    JOIN\n        DOCUMENTS_RAW_PARSED_METADATA M ON C.FILENAME = M.FILENAME\n);",
   "execution_count": null
  },
  {
   "cell_type": "code",
   "id": "b44bd928-42f5-4aae-8ba7-456526e2ef53",
   "metadata": {
    "language": "sql",
    "name": "cell7"
   },
   "outputs": [],
   "source": "SELECT * FROM CHUNKS_CONTEXTUALIZED;",
   "execution_count": null
  },
  {
   "cell_type": "code",
   "id": "2e656db2-fffe-4136-b60a-1fa42b854d0d",
   "metadata": {
    "language": "sql",
    "name": "cell9"
   },
   "outputs": [],
   "source": "-- CREATE CORTEX SEARCH SERVICE FOR CHUNKS\nCREATE OR REPLACE CORTEX SEARCH SERVICE CS_DOCUMENTS_CHUNKS\nON CONTEXTUALIZED_CHUNK \nATTRIBUTES FILENAME\nWAREHOUSE = DEMO_WH \nTARGET_LAG = '1 minute' \nEMBEDDING_MODEL = 'snowflake-arctic-embed-l-v2.0'\nAS ( SELECT * FROM CHUNKS_CONTEXTUALIZED     ); ",
   "execution_count": null
  }
 ]
}